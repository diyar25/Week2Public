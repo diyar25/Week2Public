{
 "cells": [
  {
   "cell_type": "markdown",
   "source": "<a href=\"https://colab.research.google.com/github/BeaverWorksMedlytics2020/Week2/blob/master/Notebooks/05_NeuralNetworks/NeuralNetworks_Tutorial_part1.ipynb\" target=\"_parent\"><img src=\"https://colab.research.google.com/assets/colab-badge.svg\" alt=\"Open In Colab\"/></a>",
   "metadata": {
    "id": "view-in-github",
    "colab_type": "text",
    "cell_id": "00000-927c0890-aafd-42dc-b46b-34959cc37eb0",
    "deepnote_cell_type": "markdown"
   }
  },
  {
   "cell_type": "markdown",
   "source": "## Building a Simple Neural Network with Tensorflow Keras\n\nIn this notebook we are going to walk through building a simple neural network to classify sequence data. This tutorial will be meant as a fast overview of building/training neural networks with Keras.",
   "metadata": {
    "id": "PlpG_fIiqdJU",
    "colab_type": "text",
    "cell_id": "00001-1c620486-00ec-4a12-8020-e966a564d16f",
    "deepnote_cell_type": "markdown"
   }
  },
  {
   "cell_type": "code",
   "metadata": {
    "id": "eFSzOvSduDf8",
    "colab_type": "code",
    "colab": {
     "base_uri": "https://localhost:8080/",
     "height": 34
    },
    "outputId": "61c63452-faa5-499b-852b-080a0a7b6c0a",
    "cell_id": "00002-74b5694f-3fdb-4438-adb7-36af10a18586",
    "deepnote_to_be_reexecuted": false,
    "source_hash": "799af7d0",
    "execution_start": 1626208016653,
    "execution_millis": 6558,
    "deepnote_cell_type": "code"
   },
   "source": "# Import useful libraries\n\n#Needed for terminal functions (i.e. wget)\nimport os\n\n#For plotting\nimport matplotlib.pyplot as plt\n\n#For dataframe manipulation\nimport pandas as pd\n\n#For data preprocessing\nfrom sklearn.preprocessing import StandardScaler #Use StandardScaler from scikitlearn\nfrom sklearn.utils import shuffle #Used to shuffle up examples before training\n\n#Keras-related imports\nfrom keras.models import Sequential  #we will build our models layer by layer\nfrom keras.layers import Dense  #we want to use dense layers in our model\n\n#Keras is built on top of tensorflow library\nimport tensorflow as tf #tf has many helpful functions for training networks like loss functions, optimization methods, etc.",
   "execution_count": null,
   "outputs": [
    {
     "name": "stderr",
     "text": "2021-07-13 20:26:59.643082: W tensorflow/stream_executor/platform/default/dso_loader.cc:60] Could not load dynamic library 'libcudart.so.11.0'; dlerror: libcudart.so.11.0: cannot open shared object file: No such file or directory\n2021-07-13 20:26:59.643122: I tensorflow/stream_executor/cuda/cudart_stub.cc:29] Ignore above cudart dlerror if you do not have a GPU set up on your machine.\n",
     "output_type": "stream"
    }
   ]
  },
  {
   "cell_type": "code",
   "metadata": {
    "id": "Ep_09mlyqa5G",
    "colab_type": "code",
    "colab": {
     "base_uri": "https://localhost:8080/",
     "height": 34
    },
    "outputId": "2fea20bb-a35c-40a4-e329-13dc1d796926",
    "cell_id": "00003-de9b56ea-5f5b-49be-a5f5-c69d5385db3b",
    "deepnote_to_be_reexecuted": false,
    "source_hash": "13fd0ae6",
    "execution_start": 1626208023222,
    "execution_millis": 199,
    "deepnote_cell_type": "code"
   },
   "source": "#Load the dataframe that contains all features calculated in the last notebook (only run once)\nos.system('wget https://raw.githubusercontent.com/BeaverWorksMedlytics2020/Data_Public/master/NotebookExampleData/Week2/spoken_digit_manual_features.csv')",
   "execution_count": null,
   "outputs": [
    {
     "name": "stderr",
     "text": "--2021-07-13 20:27:03--  https://raw.githubusercontent.com/BeaverWorksMedlytics2020/Data_Public/master/NotebookExampleData/Week2/spoken_digit_manual_features.csv\nResolving raw.githubusercontent.com (raw.githubusercontent.com)... 185.199.109.133, 185.199.110.133, 185.199.108.133, ...\nConnecting to raw.githubusercontent.com (raw.githubusercontent.com)|185.199.109.133|:443... connected.\nHTTP request sent, awaiting response... 200 OK\nLength: 220478 (215K) [text/plain]\nSaving to: ‘spoken_digit_manual_features.csv’\n\n     0K .......... .......... .......... .......... .......... 23% 59.3M 0s\n    50K .......... .......... .......... .......... .......... 46% 46.8M 0s\n   100K .......... .......... .......... .......... .......... 69% 48.2M 0s\n   150K .......... .......... .......... .......... .......... 92% 47.1M 0s\n   200K .......... .....                                      100% 60.5M=0.004s\n\n2021-07-13 20:27:03 (50.5 MB/s) - ‘spoken_digit_manual_features.csv’ saved [220478/220478]\n\n",
     "output_type": "stream"
    },
    {
     "output_type": "execute_result",
     "execution_count": 2,
     "data": {
      "text/plain": "0"
     },
     "metadata": {}
    }
   ]
  },
  {
   "cell_type": "markdown",
   "source": "## Load Training Data",
   "metadata": {
    "id": "zChcGaqVysRB",
    "colab_type": "text",
    "cell_id": "00004-06c210cc-0642-4077-bad9-33bc652d9651",
    "deepnote_cell_type": "markdown"
   }
  },
  {
   "cell_type": "code",
   "metadata": {
    "id": "SVwsmOGvw7jp",
    "colab_type": "code",
    "colab": {
     "base_uri": "https://localhost:8080/",
     "height": 255
    },
    "outputId": "8cc4a4d8-7200-494b-951c-8ced02534ac3",
    "cell_id": "00005-a2094c3e-a76a-4fa9-920e-67609b4f8caa",
    "deepnote_to_be_reexecuted": false,
    "source_hash": "35ce5b77",
    "execution_start": 1626208023418,
    "execution_millis": 50,
    "deepnote_cell_type": "code"
   },
   "source": "#Load dataframe and print its contents to jog memory\nspoken_df = pd.read_csv('spoken_digit_manual_features.csv', index_col = 0)\nprint(spoken_df.head(10))\nprint('\\n')\n\n#Check how many unique speakers exist in the dataset\nspeakers=set(spoken_df['speaker'])\nprint(f'There are {len(speakers)} unique speakers in the dataset')\n\n# Our goal for this is to build a neural network that learns to classify which\n# of 5 speakers is recorded in a sample based on the features:\n# spectral centroid, spectral flatness, and maximum frequency\n",
   "execution_count": null,
   "outputs": [
    {
     "name": "stdout",
     "text": "                file  digit   speaker  trial           SC        SF  \\\n0   5_yweweler_8.wav      5  yweweler      8  1029.497959  0.397336   \n1    3_george_49.wav      3    george      4  1881.296834  0.387050   \n2  9_yweweler_44.wav      9  yweweler      4  1093.951856  0.394981   \n3  8_yweweler_33.wav      8  yweweler      3  1409.543285  0.487496   \n4      7_theo_34.wav      7      theo      3   887.361601  0.396825   \n5   1_jackson_45.wav      1   jackson      4  1007.568129  0.324100   \n6  6_yweweler_18.wav      6  yweweler      1  1286.701352  0.498813   \n7    9_george_35.wav      9    george      3  1405.092061  0.353083   \n8   9_jackson_32.wav      9   jackson      3  1172.899961  0.477907   \n9    8_george_26.wav      8    george      2  1959.977577  0.462901   \n\n           MF  \n0  745.878340  \n1  323.943662  \n2  244.648318  \n3  392.350401  \n4  130.640309  \n5  216.306156  \n6  400.715564  \n7  447.239693  \n8  114.892780  \n9  320.537966  \n\n\nThere are 5 unique speakers in the dataset\n",
     "output_type": "stream"
    }
   ]
  },
  {
   "cell_type": "markdown",
   "source": "## Structure Neural Network",
   "metadata": {
    "id": "riycN8SdyxNT",
    "colab_type": "text",
    "cell_id": "00006-96c5426d-cdaf-4414-b648-6b3beb31827f",
    "deepnote_cell_type": "markdown"
   }
  },
  {
   "cell_type": "code",
   "metadata": {
    "id": "qMp_z7W9vZV4",
    "colab_type": "code",
    "colab": {},
    "cell_id": "00007-fa3507da-a40c-4730-8308-d0a334e3a9d7",
    "deepnote_to_be_reexecuted": false,
    "source_hash": "6ba8b094",
    "execution_start": 1626208023463,
    "execution_millis": 113,
    "deepnote_cell_type": "code"
   },
   "source": "# Build the keras neural network\n\n#this allows us to add layers sequentially (i.e. first->last)\nmodel = tf.keras.Sequential()\n\n#create a first layer of 12 neurons, and a rectified linear unit activation function\nmodel.add(tf.keras.layers.Dense(8, input_shape=(3,), activation=tf.nn.relu)) #input dimension needs to be number of features\n\n#add two dense layers with 8 units each\n#(note that we don't need to specify input size because keras determines input size from previous layer)\nmodel.add(tf.keras.layers.Dense(8, activation=tf.nn.relu))\nmodel.add(tf.keras.layers.Dense(8, activation=tf.nn.relu))\n\n# output dimension needs to be number of classes in order for each to get a score\nmodel.add(tf.keras.layers.Dense(5, activation=tf.nn.softmax)) ",
   "execution_count": null,
   "outputs": [
    {
     "name": "stderr",
     "text": "2021-07-13 20:27:03.474506: I tensorflow/compiler/jit/xla_cpu_device.cc:41] Not creating XLA devices, tf_xla_enable_xla_devices not set\n2021-07-13 20:27:03.477345: W tensorflow/stream_executor/platform/default/dso_loader.cc:60] Could not load dynamic library 'libcuda.so.1'; dlerror: libcuda.so.1: cannot open shared object file: No such file or directory\n2021-07-13 20:27:03.477374: W tensorflow/stream_executor/cuda/cuda_driver.cc:326] failed call to cuInit: UNKNOWN ERROR (303)\n2021-07-13 20:27:03.477401: I tensorflow/stream_executor/cuda/cuda_diagnostics.cc:156] kernel driver does not appear to be running on this host (p-bc6ef38b-230b-4598-a65d-031c49606565): /proc/driver/nvidia/version does not exist\n2021-07-13 20:27:03.477837: I tensorflow/core/platform/cpu_feature_guard.cc:142] This TensorFlow binary is optimized with oneAPI Deep Neural Network Library (oneDNN) to use the following CPU instructions in performance-critical operations:  AVX2 AVX512F FMA\nTo enable them in other operations, rebuild TensorFlow with the appropriate compiler flags.\n2021-07-13 20:27:03.478123: I tensorflow/compiler/jit/xla_gpu_device.cc:99] Not creating XLA devices, tf_xla_enable_xla_devices not set\n",
     "output_type": "stream"
    }
   ]
  },
  {
   "cell_type": "markdown",
   "source": "## Specify a Loss Function and an Optimizer for NN Model\n\nLet's describe why each of these components is necessary, and how it is used in training a neural network.\n\n**Loss Function** - This is the quantity that should be minimized when the network is trained. (It is like the mean squared error for a linear regression.) A neural network can use squared error as a loss function, but there are also other options. In the case of a neural network trying to classify samples into 1 of n categories system a common choice is called cross entropy loss.\n\n**Optimizer** - When a neural network is trained, it changes weights in the network to minimize the loss function. The optimizer governs how the neural network iteratively changes its weights as it minimizes loss. Many optimizers use the derivative of the loss function with respect to all the weights to decide which direction to change network weights.",
   "metadata": {
    "id": "9p9UDYX-y_v9",
    "colab_type": "text",
    "cell_id": "00008-75d9a43d-832a-479e-8569-d76a89dd84c6",
    "deepnote_cell_type": "markdown"
   }
  },
  {
   "cell_type": "code",
   "metadata": {
    "id": "fKRMZVOkyoUP",
    "colab_type": "code",
    "colab": {},
    "cell_id": "00009-c870b57d-ff1e-41a7-a8c1-f5a39fc9c89c",
    "deepnote_to_be_reexecuted": false,
    "source_hash": "c6c76eb4",
    "execution_start": 1626208023627,
    "execution_millis": 1,
    "deepnote_cell_type": "code"
   },
   "source": "#Specify a loss function for our network\n\n#Note that the metrics input argument governs what will be reported as the network is trained \nmodel.compile(loss = tf.keras.losses.categorical_crossentropy, optimizer = tf.keras.optimizers.Adam(learning_rate=0.01) , metrics = ['accuracy'])\n",
   "execution_count": null,
   "outputs": []
  },
  {
   "cell_type": "markdown",
   "source": "## Convert Labels into \"Onehot\" Vectors\n\nPredictions output by the model need to be compared to some truth label. Currently, the model predicts a 5-element vector of \"prediction values\" for every sample. The truth labels thus need to be converted to a 5-element vector with a 1 in the correct index and zeros in all others",
   "metadata": {
    "id": "xgP9AW_KSDuy",
    "colab_type": "text",
    "cell_id": "00010-0b9b16a4-d92c-45f3-b15b-9f30ad856462",
    "deepnote_cell_type": "markdown"
   }
  },
  {
   "cell_type": "code",
   "metadata": {
    "id": "Ix3lG15TSo42",
    "colab_type": "code",
    "colab": {},
    "cell_id": "00011-859385a2-0881-4d6f-9ef3-3adc00cb4f79",
    "deepnote_to_be_reexecuted": false,
    "source_hash": "26e8948e",
    "execution_start": 1626208023628,
    "execution_millis": 0,
    "deepnote_cell_type": "code"
   },
   "source": "#make dictionary to convert from speaker names to indices\nname2int_dict = {name: ind for (ind, name) in enumerate(set(spoken_df['speaker']))}\n\ny_labels = spoken_df['speaker']\n#set y_labels to be indices of speaker\ny_labels = [name2int_dict[name] for name in y_labels]\n",
   "execution_count": null,
   "outputs": []
  },
  {
   "cell_type": "markdown",
   "source": "## Standardize Data and split into train/validation/test sets\n\nScaling data is generally good practice before attempting to fit a model. Having inputs with large differences in scale can affect how the optimizer changes weights to minimize the loss function",
   "metadata": {
    "id": "uegmriZU29sA",
    "colab_type": "text",
    "cell_id": "00012-ac11c945-c5d2-4d09-ada5-f8060ae740d9",
    "deepnote_cell_type": "markdown"
   }
  },
  {
   "cell_type": "code",
   "metadata": {
    "id": "HM-ON_x930fu",
    "colab_type": "code",
    "colab": {},
    "cell_id": "00013-6119c263-643d-415f-8361-1de9f0089079",
    "deepnote_to_be_reexecuted": false,
    "source_hash": "6de1e3a5",
    "execution_start": 1626208023629,
    "execution_millis": 41,
    "deepnote_cell_type": "code"
   },
   "source": "#downselect to only the 3 columns of the dataset we are learning from\nX_data = spoken_df[['SC', 'SF', 'MF']].to_numpy()\n\n#Decide how large to make validation and test sets\nn_val = 250\nn_test = 250\n\n#Shuffle data before partitioning\nX_data, y_labels = shuffle(X_data, y_labels, random_state = 25)\n\n#Partition\nX_data_test, y_labels_test = X_data[:n_test,:], y_labels[:n_test]\nX_data_val, y_labels_val = X_data[n_test:n_test+n_val,:], y_labels[n_test:n_test+n_val]\nX_data_train, y_labels_train = X_data[n_test+n_val:,:], y_labels[n_test+n_val:]\n\n#Scale data\nscaler = StandardScaler()\nX_data_train=scaler.fit_transform(X_data_train)\nX_data_val = scaler.transform(X_data_val)\nX_data_test = scaler.transform(X_data_test)\n\n#convert labels to onehot\ny_labels_train = tf.keras.utils.to_categorical(y_labels_train, 5)\ny_labels_val =  tf.keras.utils.to_categorical(y_labels_val, 5)\ny_labels_test =  tf.keras.utils.to_categorical(y_labels_test, 5)\n\ntraining_set = tf.data.Dataset.from_tensor_slices((X_data_train, y_labels_train))",
   "execution_count": null,
   "outputs": []
  },
  {
   "cell_type": "markdown",
   "source": "## Fit Model to Data, Specify Number of Epochs and Batch Size\n\n**Batch Size** - In each iteration of the optimizer, how many samples are taken into account when calculating derivatives of the loss function? (If batch size is less than number of samples, there will be multiple optimization iterations per epoch.)\n\n**Epochs** - How many times should the data be passed through before optimization is finished?",
   "metadata": {
    "id": "DnDGqneBOsW_",
    "colab_type": "text",
    "cell_id": "00014-30efe95c-360b-42d9-9403-78e2bd0d4109",
    "deepnote_cell_type": "markdown"
   }
  },
  {
   "cell_type": "code",
   "metadata": {
    "id": "nkeUHhxZ3iOF",
    "colab_type": "code",
    "colab": {
     "base_uri": "https://localhost:8080/",
     "height": 1000
    },
    "outputId": "fd52264a-8db8-4abf-85e4-da0bf7a8c2b1",
    "cell_id": "00015-c02ea845-5f1e-48ad-b424-17f14483f69f",
    "deepnote_to_be_reexecuted": false,
    "source_hash": "6de8a191",
    "execution_start": 1626208023671,
    "execution_millis": 8638,
    "deepnote_cell_type": "code"
   },
   "source": "epochs = 50\nbatch_size = 100\n\ntraining_set = training_set.batch(batch_size) #set batch size\n\nfor epoch in range(epochs):\n    for signals, labels in training_set:\n        tr_loss, tr_accuracy = model.train_on_batch(signals, labels)\n    val_loss, val_accuracy = model.evaluate(X_data_val, y_labels_val)\n    print(('Epoch #%d\\t Training Loss: %.2f\\tTraining Accuracy: %.2f\\t'\n         'Validation Loss: %.2f\\tValidation Accuracy: %.2f')\n         % (epoch + 1, tr_loss, tr_accuracy,\n         val_loss, val_accuracy))",
   "execution_count": null,
   "outputs": [
    {
     "name": "stderr",
     "text": "2021-07-13 20:27:03.995199: I tensorflow/compiler/mlir/mlir_graph_optimization_pass.cc:116] None of the MLIR optimization passes are enabled (registered 2)\n2021-07-13 20:27:04.017134: I tensorflow/core/platform/profile_utils/cpu_utils.cc:112] CPU Frequency: 2499995000 Hz\n8/8 [==============================] - 0s 2ms/step - loss: 1.5518 - accuracy: 0.2920\nEpoch #1\t Training Loss: 1.53\tTraining Accuracy: 0.31\tValidation Loss: 1.55\tValidation Accuracy: 0.29\n8/8 [==============================] - 0s 1ms/step - loss: 1.3342 - accuracy: 0.4440\nEpoch #2\t Training Loss: 1.36\tTraining Accuracy: 0.42\tValidation Loss: 1.33\tValidation Accuracy: 0.44\n8/8 [==============================] - 0s 1ms/step - loss: 1.1528 - accuracy: 0.5080\nEpoch #3\t Training Loss: 1.15\tTraining Accuracy: 0.50\tValidation Loss: 1.15\tValidation Accuracy: 0.51\n8/8 [==============================] - 0s 966us/step - loss: 1.1027 - accuracy: 0.5520\nEpoch #4\t Training Loss: 1.11\tTraining Accuracy: 0.55\tValidation Loss: 1.10\tValidation Accuracy: 0.55\n8/8 [==============================] - 0s 1ms/step - loss: 1.0944 - accuracy: 0.5560\nEpoch #5\t Training Loss: 1.09\tTraining Accuracy: 0.55\tValidation Loss: 1.09\tValidation Accuracy: 0.56\n8/8 [==============================] - 0s 1ms/step - loss: 1.0748 - accuracy: 0.5480\nEpoch #6\t Training Loss: 1.08\tTraining Accuracy: 0.50\tValidation Loss: 1.07\tValidation Accuracy: 0.55\n8/8 [==============================] - 0s 995us/step - loss: 1.0500 - accuracy: 0.5720\nEpoch #7\t Training Loss: 1.07\tTraining Accuracy: 0.50\tValidation Loss: 1.05\tValidation Accuracy: 0.57\n8/8 [==============================] - 0s 1ms/step - loss: 1.0381 - accuracy: 0.5840\nEpoch #8\t Training Loss: 1.06\tTraining Accuracy: 0.48\tValidation Loss: 1.04\tValidation Accuracy: 0.58\n8/8 [==============================] - 0s 1ms/step - loss: 1.0216 - accuracy: 0.5920\nEpoch #9\t Training Loss: 1.06\tTraining Accuracy: 0.51\tValidation Loss: 1.02\tValidation Accuracy: 0.59\n8/8 [==============================] - 0s 1ms/step - loss: 1.0148 - accuracy: 0.6000\nEpoch #10\t Training Loss: 1.05\tTraining Accuracy: 0.53\tValidation Loss: 1.01\tValidation Accuracy: 0.60\n8/8 [==============================] - 0s 1ms/step - loss: 1.0090 - accuracy: 0.5960\nEpoch #11\t Training Loss: 1.04\tTraining Accuracy: 0.54\tValidation Loss: 1.01\tValidation Accuracy: 0.60\n8/8 [==============================] - 0s 1ms/step - loss: 1.0032 - accuracy: 0.6000\nEpoch #12\t Training Loss: 1.04\tTraining Accuracy: 0.52\tValidation Loss: 1.00\tValidation Accuracy: 0.60\n8/8 [==============================] - 0s 2ms/step - loss: 1.0003 - accuracy: 0.6040\nEpoch #13\t Training Loss: 1.04\tTraining Accuracy: 0.54\tValidation Loss: 1.00\tValidation Accuracy: 0.60\n8/8 [==============================] - 0s 1ms/step - loss: 0.9946 - accuracy: 0.6040\nEpoch #14\t Training Loss: 1.03\tTraining Accuracy: 0.54\tValidation Loss: 0.99\tValidation Accuracy: 0.60\n8/8 [==============================] - 0s 983us/step - loss: 0.9866 - accuracy: 0.6040\nEpoch #15\t Training Loss: 1.03\tTraining Accuracy: 0.56\tValidation Loss: 0.99\tValidation Accuracy: 0.60\n8/8 [==============================] - 0s 3ms/step - loss: 0.9773 - accuracy: 0.6040\nEpoch #16\t Training Loss: 1.03\tTraining Accuracy: 0.54\tValidation Loss: 0.98\tValidation Accuracy: 0.60\n8/8 [==============================] - 0s 1ms/step - loss: 0.9721 - accuracy: 0.5960\nEpoch #17\t Training Loss: 1.02\tTraining Accuracy: 0.55\tValidation Loss: 0.97\tValidation Accuracy: 0.60\n8/8 [==============================] - 0s 937us/step - loss: 0.9701 - accuracy: 0.5920\nEpoch #18\t Training Loss: 1.02\tTraining Accuracy: 0.54\tValidation Loss: 0.97\tValidation Accuracy: 0.59\n8/8 [==============================] - 0s 1ms/step - loss: 0.9634 - accuracy: 0.5960\nEpoch #19\t Training Loss: 1.01\tTraining Accuracy: 0.54\tValidation Loss: 0.96\tValidation Accuracy: 0.60\n8/8 [==============================] - 0s 1ms/step - loss: 0.9578 - accuracy: 0.6000\nEpoch #20\t Training Loss: 1.01\tTraining Accuracy: 0.54\tValidation Loss: 0.96\tValidation Accuracy: 0.60\n8/8 [==============================] - 0s 1ms/step - loss: 0.9521 - accuracy: 0.5840\nEpoch #21\t Training Loss: 1.00\tTraining Accuracy: 0.53\tValidation Loss: 0.95\tValidation Accuracy: 0.58\n8/8 [==============================] - 0s 1ms/step - loss: 0.9540 - accuracy: 0.5880\nEpoch #22\t Training Loss: 1.00\tTraining Accuracy: 0.52\tValidation Loss: 0.95\tValidation Accuracy: 0.59\n8/8 [==============================] - 0s 1ms/step - loss: 0.9437 - accuracy: 0.5760\nEpoch #23\t Training Loss: 1.00\tTraining Accuracy: 0.53\tValidation Loss: 0.94\tValidation Accuracy: 0.58\n8/8 [==============================] - 0s 1ms/step - loss: 0.9449 - accuracy: 0.5800\nEpoch #24\t Training Loss: 0.99\tTraining Accuracy: 0.52\tValidation Loss: 0.94\tValidation Accuracy: 0.58\n8/8 [==============================] - 0s 1ms/step - loss: 0.9386 - accuracy: 0.5800\nEpoch #25\t Training Loss: 0.99\tTraining Accuracy: 0.54\tValidation Loss: 0.94\tValidation Accuracy: 0.58\n8/8 [==============================] - 0s 1ms/step - loss: 0.9365 - accuracy: 0.5880\nEpoch #26\t Training Loss: 0.98\tTraining Accuracy: 0.54\tValidation Loss: 0.94\tValidation Accuracy: 0.59\n8/8 [==============================] - 0s 1ms/step - loss: 0.9268 - accuracy: 0.5800\nEpoch #27\t Training Loss: 0.98\tTraining Accuracy: 0.54\tValidation Loss: 0.93\tValidation Accuracy: 0.58\n8/8 [==============================] - 0s 987us/step - loss: 0.9204 - accuracy: 0.5800\nEpoch #28\t Training Loss: 0.98\tTraining Accuracy: 0.54\tValidation Loss: 0.92\tValidation Accuracy: 0.58\n8/8 [==============================] - 0s 3ms/step - loss: 0.9172 - accuracy: 0.5680\nEpoch #29\t Training Loss: 0.97\tTraining Accuracy: 0.54\tValidation Loss: 0.92\tValidation Accuracy: 0.57\n8/8 [==============================] - 0s 1ms/step - loss: 0.9147 - accuracy: 0.5720\nEpoch #30\t Training Loss: 0.97\tTraining Accuracy: 0.54\tValidation Loss: 0.91\tValidation Accuracy: 0.57\n8/8 [==============================] - 0s 996us/step - loss: 0.9133 - accuracy: 0.5760\nEpoch #31\t Training Loss: 0.97\tTraining Accuracy: 0.55\tValidation Loss: 0.91\tValidation Accuracy: 0.58\n8/8 [==============================] - 0s 1ms/step - loss: 0.9097 - accuracy: 0.6000\nEpoch #32\t Training Loss: 0.97\tTraining Accuracy: 0.56\tValidation Loss: 0.91\tValidation Accuracy: 0.60\n8/8 [==============================] - 0s 1ms/step - loss: 0.9055 - accuracy: 0.5880\nEpoch #33\t Training Loss: 0.96\tTraining Accuracy: 0.56\tValidation Loss: 0.91\tValidation Accuracy: 0.59\n8/8 [==============================] - 0s 1ms/step - loss: 0.9060 - accuracy: 0.5920\nEpoch #34\t Training Loss: 0.95\tTraining Accuracy: 0.55\tValidation Loss: 0.91\tValidation Accuracy: 0.59\n8/8 [==============================] - 0s 1ms/step - loss: 0.8989 - accuracy: 0.6040\nEpoch #35\t Training Loss: 0.95\tTraining Accuracy: 0.54\tValidation Loss: 0.90\tValidation Accuracy: 0.60\n8/8 [==============================] - 0s 1ms/step - loss: 0.8976 - accuracy: 0.5960\nEpoch #36\t Training Loss: 0.94\tTraining Accuracy: 0.55\tValidation Loss: 0.90\tValidation Accuracy: 0.60\n8/8 [==============================] - 0s 997us/step - loss: 0.8916 - accuracy: 0.6080\nEpoch #37\t Training Loss: 0.94\tTraining Accuracy: 0.58\tValidation Loss: 0.89\tValidation Accuracy: 0.61\n8/8 [==============================] - 0s 965us/step - loss: 0.8875 - accuracy: 0.6120\nEpoch #38\t Training Loss: 0.93\tTraining Accuracy: 0.57\tValidation Loss: 0.89\tValidation Accuracy: 0.61\n8/8 [==============================] - 0s 1ms/step - loss: 0.8870 - accuracy: 0.6120\nEpoch #39\t Training Loss: 0.93\tTraining Accuracy: 0.56\tValidation Loss: 0.89\tValidation Accuracy: 0.61\n8/8 [==============================] - 0s 1ms/step - loss: 0.8828 - accuracy: 0.6080\nEpoch #40\t Training Loss: 0.93\tTraining Accuracy: 0.57\tValidation Loss: 0.88\tValidation Accuracy: 0.61\n8/8 [==============================] - 0s 970us/step - loss: 0.8845 - accuracy: 0.6080\nEpoch #41\t Training Loss: 0.92\tTraining Accuracy: 0.58\tValidation Loss: 0.88\tValidation Accuracy: 0.61\n8/8 [==============================] - 0s 2ms/step - loss: 0.8827 - accuracy: 0.6120\nEpoch #42\t Training Loss: 0.92\tTraining Accuracy: 0.61\tValidation Loss: 0.88\tValidation Accuracy: 0.61\n8/8 [==============================] - 0s 1ms/step - loss: 0.8788 - accuracy: 0.6120\nEpoch #43\t Training Loss: 0.92\tTraining Accuracy: 0.59\tValidation Loss: 0.88\tValidation Accuracy: 0.61\n8/8 [==============================] - 0s 1ms/step - loss: 0.8820 - accuracy: 0.6080\nEpoch #44\t Training Loss: 0.92\tTraining Accuracy: 0.61\tValidation Loss: 0.88\tValidation Accuracy: 0.61\n8/8 [==============================] - 0s 987us/step - loss: 0.8767 - accuracy: 0.6160\nEpoch #45\t Training Loss: 0.92\tTraining Accuracy: 0.62\tValidation Loss: 0.88\tValidation Accuracy: 0.62\n8/8 [==============================] - 0s 1ms/step - loss: 0.8765 - accuracy: 0.6120\nEpoch #46\t Training Loss: 0.91\tTraining Accuracy: 0.63\tValidation Loss: 0.88\tValidation Accuracy: 0.61\n8/8 [==============================] - 0s 969us/step - loss: 0.8752 - accuracy: 0.6120\nEpoch #47\t Training Loss: 0.91\tTraining Accuracy: 0.62\tValidation Loss: 0.88\tValidation Accuracy: 0.61\n8/8 [==============================] - 0s 1ms/step - loss: 0.8764 - accuracy: 0.6240\nEpoch #48\t Training Loss: 0.91\tTraining Accuracy: 0.63\tValidation Loss: 0.88\tValidation Accuracy: 0.62\n8/8 [==============================] - 0s 1ms/step - loss: 0.8776 - accuracy: 0.6200\nEpoch #49\t Training Loss: 0.92\tTraining Accuracy: 0.63\tValidation Loss: 0.88\tValidation Accuracy: 0.62\n8/8 [==============================] - 0s 1ms/step - loss: 0.8739 - accuracy: 0.6200\nEpoch #50\t Training Loss: 0.91\tTraining Accuracy: 0.63\tValidation Loss: 0.87\tValidation Accuracy: 0.62\n",
     "output_type": "stream"
    }
   ]
  },
  {
   "cell_type": "markdown",
   "source": "## Check Performance on Test Set\n\nWe can use model.predict to output predicted labels on the test set, or model.evaluate to determine test-set accuracy (since we have the labels)\n",
   "metadata": {
    "id": "OadIT5MEaOJA",
    "colab_type": "text",
    "cell_id": "00016-723fa70c-57c5-4e98-807d-8503b2b787fb",
    "deepnote_cell_type": "markdown"
   }
  },
  {
   "cell_type": "code",
   "metadata": {
    "id": "Mr55MHYhafFa",
    "colab_type": "code",
    "colab": {
     "base_uri": "https://localhost:8080/",
     "height": 34
    },
    "outputId": "201332aa-9aca-4af8-e01f-d9fc101e8642",
    "cell_id": "00017-0e95d26a-207b-4450-ab18-5d389d9a540c",
    "deepnote_to_be_reexecuted": false,
    "source_hash": "32af229b",
    "execution_start": 1626208032314,
    "execution_millis": 52,
    "deepnote_cell_type": "code"
   },
   "source": "test_loss, test_accuracy = model.evaluate(X_data_test, y_labels_test)",
   "execution_count": null,
   "outputs": [
    {
     "name": "stdout",
     "text": "8/8 [==============================] - 0s 1ms/step - loss: 0.9859 - accuracy: 0.6120\n",
     "output_type": "stream"
    }
   ]
  },
  {
   "cell_type": "markdown",
   "source": "<a style='text-decoration:none;line-height:16px;display:flex;color:#5B5B62;padding:10px;justify-content:end;' href='https://deepnote.com?utm_source=created-in-deepnote-cell&projectId=bc6ef38b-230b-4598-a65d-031c49606565' target=\"_blank\">\n<img alt='Created in deepnote.com' style='display:inline;max-height:16px;margin:0px;margin-right:7.5px;' src='data:image/svg+xml;base64,PD94bWwgdmVyc2lvbj0iMS4wIiBlbmNvZGluZz0iVVRGLTgiPz4KPHN2ZyB3aWR0aD0iODBweCIgaGVpZ2h0PSI4MHB4IiB2aWV3Qm94PSIwIDAgODAgODAiIHZlcnNpb249IjEuMSIgeG1sbnM9Imh0dHA6Ly93d3cudzMub3JnLzIwMDAvc3ZnIiB4bWxuczp4bGluaz0iaHR0cDovL3d3dy53My5vcmcvMTk5OS94bGluayI+CiAgICA8IS0tIEdlbmVyYXRvcjogU2tldGNoIDU0LjEgKDc2NDkwKSAtIGh0dHBzOi8vc2tldGNoYXBwLmNvbSAtLT4KICAgIDx0aXRsZT5Hcm91cCAzPC90aXRsZT4KICAgIDxkZXNjPkNyZWF0ZWQgd2l0aCBTa2V0Y2guPC9kZXNjPgogICAgPGcgaWQ9IkxhbmRpbmciIHN0cm9rZT0ibm9uZSIgc3Ryb2tlLXdpZHRoPSIxIiBmaWxsPSJub25lIiBmaWxsLXJ1bGU9ImV2ZW5vZGQiPgogICAgICAgIDxnIGlkPSJBcnRib2FyZCIgdHJhbnNmb3JtPSJ0cmFuc2xhdGUoLTEyMzUuMDAwMDAwLCAtNzkuMDAwMDAwKSI+CiAgICAgICAgICAgIDxnIGlkPSJHcm91cC0zIiB0cmFuc2Zvcm09InRyYW5zbGF0ZSgxMjM1LjAwMDAwMCwgNzkuMDAwMDAwKSI+CiAgICAgICAgICAgICAgICA8cG9seWdvbiBpZD0iUGF0aC0yMCIgZmlsbD0iIzAyNjVCNCIgcG9pbnRzPSIyLjM3NjIzNzYyIDgwIDM4LjA0NzY2NjcgODAgNTcuODIxNzgyMiA3My44MDU3NTkyIDU3LjgyMTc4MjIgMzIuNzU5MjczOSAzOS4xNDAyMjc4IDMxLjY4MzE2ODMiPjwvcG9seWdvbj4KICAgICAgICAgICAgICAgIDxwYXRoIGQ9Ik0zNS4wMDc3MTgsODAgQzQyLjkwNjIwMDcsNzYuNDU0OTM1OCA0Ny41NjQ5MTY3LDcxLjU0MjI2NzEgNDguOTgzODY2LDY1LjI2MTk5MzkgQzUxLjExMjI4OTksNTUuODQxNTg0MiA0MS42NzcxNzk1LDQ5LjIxMjIyODQgMjUuNjIzOTg0Niw0OS4yMTIyMjg0IEMyNS40ODQ5Mjg5LDQ5LjEyNjg0NDggMjkuODI2MTI5Niw0My4yODM4MjQ4IDM4LjY0NzU4NjksMzEuNjgzMTY4MyBMNzIuODcxMjg3MSwzMi41NTQ0MjUgTDY1LjI4MDk3Myw2Ny42NzYzNDIxIEw1MS4xMTIyODk5LDc3LjM3NjE0NCBMMzUuMDA3NzE4LDgwIFoiIGlkPSJQYXRoLTIyIiBmaWxsPSIjMDAyODY4Ij48L3BhdGg+CiAgICAgICAgICAgICAgICA8cGF0aCBkPSJNMCwzNy43MzA0NDA1IEwyNy4xMTQ1MzcsMC4yNTcxMTE0MzYgQzYyLjM3MTUxMjMsLTEuOTkwNzE3MDEgODAsMTAuNTAwMzkyNyA4MCwzNy43MzA0NDA1IEM4MCw2NC45NjA0ODgyIDY0Ljc3NjUwMzgsNzkuMDUwMzQxNCAzNC4zMjk1MTEzLDgwIEM0Ny4wNTUzNDg5LDc3LjU2NzA4MDggNTMuNDE4MjY3Nyw3MC4zMTM2MTAzIDUzLjQxODI2NzcsNTguMjM5NTg4NSBDNTMuNDE4MjY3Nyw0MC4xMjg1NTU3IDM2LjMwMzk1NDQsMzcuNzMwNDQwNSAyNS4yMjc0MTcsMzcuNzMwNDQwNSBDMTcuODQzMDU4NiwzNy43MzA0NDA1IDkuNDMzOTE5NjYsMzcuNzMwNDQwNSAwLDM3LjczMDQ0MDUgWiIgaWQ9IlBhdGgtMTkiIGZpbGw9IiMzNzkzRUYiPjwvcGF0aD4KICAgICAgICAgICAgPC9nPgogICAgICAgIDwvZz4KICAgIDwvZz4KPC9zdmc+' > </img>\nCreated in <span style='font-weight:600;margin-left:4px;'>Deepnote</span></a>",
   "metadata": {
    "tags": [],
    "created_in_deepnote_cell": true,
    "deepnote_cell_type": "markdown"
   }
  }
 ],
 "nbformat": 4,
 "nbformat_minor": 0,
 "metadata": {
  "colab": {
   "name": "NeuralNetworks_Tutorial_part1.ipynb",
   "provenance": [],
   "collapsed_sections": [],
   "include_colab_link": true
  },
  "kernelspec": {
   "name": "python3",
   "display_name": "Python 3"
  },
  "deepnote_notebook_id": "c34973b9-f1a7-46e9-93b0-c7c1d56cb0a1",
  "deepnote": {},
  "deepnote_execution_queue": []
 }
}