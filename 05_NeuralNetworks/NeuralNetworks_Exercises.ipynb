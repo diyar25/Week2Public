{
 "cells": [
  {
   "cell_type": "markdown",
   "source": "# Neural Network Exercise\n\nIn this Exercise Notebook you will be building your own artificial neural network and seeing how adding different types of layers can affect the validation/testing accuracy. This is based off of the Simple Neural Network with Keras tutorial, so you can reference that for further explanations as well.",
   "metadata": {
    "id": "PlpG_fIiqdJU",
    "colab_type": "text",
    "cell_id": "00000-2b5e197a-a03f-4397-9bdb-9f3b98aa469c",
    "deepnote_cell_type": "markdown"
   }
  },
  {
   "cell_type": "code",
   "metadata": {
    "id": "eFSzOvSduDf8",
    "colab_type": "code",
    "colab": {},
    "cell_id": "00001-07f3bb70-d1b0-40c1-af55-ed72103200f1",
    "deepnote_to_be_reexecuted": false,
    "source_hash": "9e6326f3",
    "execution_start": 1626272148755,
    "execution_millis": 7428,
    "deepnote_cell_type": "code"
   },
   "source": "import os\nimport matplotlib.pyplot as plt\nimport pandas as pd\nfrom sklearn.preprocessing import StandardScaler\nfrom sklearn.utils import shuffle\nfrom keras.models import Sequential\nfrom keras.layers import Dense\nimport tensorflow as tf",
   "execution_count": null,
   "outputs": [
    {
     "name": "stderr",
     "text": "2021-07-14 14:15:51.983550: W tensorflow/stream_executor/platform/default/dso_loader.cc:60] Could not load dynamic library 'libcudart.so.11.0'; dlerror: libcudart.so.11.0: cannot open shared object file: No such file or directory\n2021-07-14 14:15:51.983597: I tensorflow/stream_executor/cuda/cudart_stub.cc:29] Ignore above cudart dlerror if you do not have a GPU set up on your machine.\n",
     "output_type": "stream"
    }
   ]
  },
  {
   "cell_type": "code",
   "metadata": {
    "id": "Ep_09mlyqa5G",
    "colab_type": "code",
    "colab": {},
    "cell_id": "00002-4198ace4-f32e-41f6-a2ac-1b9880ad354b",
    "deepnote_cell_type": "code"
   },
   "source": "os.system('wget https://raw.githubusercontent.com/BeaverWorksMedlytics2020/Data_Public/master/NotebookExampleData/Week2/spoken_digit_manual_features.csv')",
   "execution_count": null,
   "outputs": []
  },
  {
   "cell_type": "markdown",
   "source": "## Load Training Data and Pre-processed Features\n\nYour goal is to build a neural network that learns to classify which of the 5 speakers is recorded in a signal sample. Your prediction will be based off of features we've already pre-extracted for you and put into this CSV: spectral centroid `SC`, spectral flatness `SF`, and maximum frequency `MF`.",
   "metadata": {
    "id": "zChcGaqVysRB",
    "colab_type": "text",
    "cell_id": "00003-a860c899-8655-4439-8026-ccf23f0a1f87",
    "deepnote_cell_type": "markdown"
   }
  },
  {
   "cell_type": "code",
   "metadata": {
    "id": "SVwsmOGvw7jp",
    "colab_type": "code",
    "colab": {},
    "cell_id": "00004-83ec8e48-2558-4fe1-8e23-d1c8e6ffab81",
    "deepnote_cell_type": "code"
   },
   "source": "# Load csv containing raw data, labels, and pre-processed features\nspoken_df = pd.read_csv('spoken_digit_manual_features.csv', index_col = 0)\nprint(spoken_df.head(10))\nprint('\\n')\n\n# Set speakers\nspeakers = set(spoken_df['speaker'])\nprint(f'There are {len(speakers)} unique speakers in the dataset')",
   "execution_count": null,
   "outputs": []
  },
  {
   "cell_type": "markdown",
   "source": "Converting labels to \"onehot\" vectors:",
   "metadata": {
    "id": "mArY7lB4Akv1",
    "colab_type": "text",
    "cell_id": "00005-cad7866a-fff7-48b3-bdfe-90cfad89f72d",
    "deepnote_cell_type": "markdown"
   }
  },
  {
   "cell_type": "code",
   "metadata": {
    "id": "nLRtFkiYAc3N",
    "colab_type": "code",
    "colab": {},
    "cell_id": "00006-1a930d67-1312-4cd9-be5a-e285f96e7ed6",
    "deepnote_cell_type": "code"
   },
   "source": "# Make dictionary to convert from speaker names to indices\nname2int_dict = {name: ind for (ind, name) in enumerate(set(spoken_df['speaker']))}\n\ny_labels = spoken_df['speaker']\n# Set y_labels to be indices of speaker\ny_labels = [name2int_dict[name] for name in y_labels]",
   "execution_count": null,
   "outputs": []
  },
  {
   "cell_type": "markdown",
   "source": "Standardize data and split into train, validation, and test sets:",
   "metadata": {
    "id": "xUhDZMw1A93D",
    "colab_type": "text",
    "cell_id": "00007-02b2b0de-ea31-4b2d-8086-c18a9a903d53",
    "deepnote_cell_type": "markdown"
   }
  },
  {
   "cell_type": "code",
   "metadata": {
    "id": "TAuzw6ibA3Es",
    "colab_type": "code",
    "colab": {},
    "cell_id": "00008-5ad4d6b9-f89f-4b00-ba70-8501d46c4c99",
    "deepnote_cell_type": "code"
   },
   "source": "# Downselect to only the 3 columns of the dataset we are learning from, aka the features\nX_data = spoken_df[['SC', 'SF', 'MF']].to_numpy()\n\n# Decide how large to make validation and test sets\nn_val = 250\nn_test = 250\n\n# Shuffle data before partitioning\nX_data, y_labels = shuffle(X_data, y_labels, random_state = 25)\n\n# Partition\nX_data_test, y_labels_test = X_data[:n_test,:], y_labels[:n_test]\nX_data_val, y_labels_val = X_data[n_test:n_test+n_val,:], y_labels[n_test:n_test+n_val]\nX_data_train, y_labels_train = X_data[n_test+n_val:,:], y_labels[n_test+n_val:]\n\n# Scale data\nscaler = StandardScaler()\nX_data_train=scaler.fit_transform(X_data_train)\nX_data_val = scaler.transform(X_data_val)\nX_data_test = scaler.transform(X_data_test)\n\n# Convert labels to onehot\ny_labels_train = tf.keras.utils.to_categorical(y_labels_train, 5)\ny_labels_val =  tf.keras.utils.to_categorical(y_labels_val, 5)\ny_labels_test =  tf.keras.utils.to_categorical(y_labels_test, 5)\n\ntraining_set = tf.data.Dataset.from_tensor_slices((X_data_train, y_labels_train))",
   "execution_count": null,
   "outputs": []
  },
  {
   "cell_type": "markdown",
   "source": "## Aditional Layers\n\nBefore you get to writing your own neural network we'll show you some examples of additional layers you can potetially add that we didn't go over in the tutorial. After reading over our explanations/example code and going through documentation you'll be testing some of these out by putting together a neural network yourself.",
   "metadata": {
    "id": "riycN8SdyxNT",
    "colab_type": "text",
    "cell_id": "00009-136cb214-1f8e-4340-bccd-5a25539662a0",
    "deepnote_cell_type": "markdown"
   }
  },
  {
   "cell_type": "markdown",
   "source": "### Dropout Layers\n\nDropout layers randomly omit, or drop, some elements of the output vector from the layer, which helps prevent overfitting and can improve the generalization of your neural network. The dropout rate can be any number between 0 and 1.\n\nhttps://www.tensorflow.org/api_docs/python/tf/keras/layers/Dropout\n\n```python\n# Example\nd_r = 0.6\ntf.keras.layers.Dropout(rate=d_r)\n```",
   "metadata": {
    "id": "DoaZsqc3iEyv",
    "colab_type": "text",
    "cell_id": "00010-cafee0e5-2e61-4aa3-b9a8-d49fffe9236e",
    "deepnote_cell_type": "markdown"
   }
  },
  {
   "cell_type": "markdown",
   "source": "### Pooling Layers\n\nA pooling layer reduces dimensionality (reducing the size of each feature map) and \"compresses\" information by combining several output elements. Two common functions used for pooling are:\n- Average pooling: calculating the average value for each patch on the feature map\n- Max pooling: calculating the maximum value for each patch of the feature map\n\nhttps://www.tensorflow.org/api_docs/python/tf/keras/layers/MaxPool1D\n\n```python\n# Example\ntf.keras.layers.MaxPool1D(pool_size=1)\n```",
   "metadata": {
    "id": "gVJMrZ09iUgk",
    "colab_type": "text",
    "cell_id": "00011-92889921-3389-4c63-8bcc-cebc429f598a",
    "deepnote_cell_type": "markdown"
   }
  },
  {
   "cell_type": "markdown",
   "source": "### Activation Layers/Functions\n\nAn activation function looks at each \"neuron\" in your neural network and determines whether it should be activated (fired) or not, based on the relevancy of the neuron's input to the model’s predictions. Some different activation functions you could look at are:\n- softmax https://www.tensorflow.org/api_docs/python/tf/keras/layers/Softmax\n- sigmoid https://www.tensorflow.org/api_docs/python/tf/keras/activations/sigmoid\n- softplus https://www.tensorflow.org/api_docs/python/tf/keras/activations/softplus\n- relu https://www.tensorflow.org/api_docs/python/tf/keras/layers/ReLU\n\n```python\n# Example\ntf.keras.layers.Softmax()\n```",
   "metadata": {
    "id": "72ngF_beiaV9",
    "colab_type": "text",
    "cell_id": "00012-4192702f-a646-40d5-97c4-e6a6125dd487",
    "deepnote_cell_type": "markdown"
   }
  },
  {
   "cell_type": "markdown",
   "source": "### Optimation Functions\n\nOptimation functions\n- Adam https://www.tensorflow.org/api_docs/python/tf/keras/optimizers/Adam\n  - Adam is computationally efficient, has little memory requirement, and is well suited for problems that are large in terms of data/parameter.\n- Adagrad https://www.tensorflow.org/api_docs/python/tf/keras/optimizers/Adagrad\n  - Adagrad is an optimizer that is best used for sparse data. Some of its benefits are that it converges more quickly and doesn't need manual adjustment of the hyperparameter \"learning rate\".\n- SGD https://www.tensorflow.org/api_docs/python/tf/keras/optimizers/SGD\n  - SGD is a stochastic gradient descent and momentum optimizer. SGD essentially helps gradient vectors move down loss functions towards the minimum point, leading to faster \"converging\".\n- RMSprop https://keras.io/api/optimizers/rmsprop/\n  - As you may already know, the learning rate regulates how much the model \ncan change based on the estimated error (which occurs every time the model's weights are updated). Instead of treating the learning rate as a hyperparamter, RMSprop is an optimization technique that uses relies on a changing, adaptive learning rate.\n\n```python\n# Example code\nl_r = .001 \ntf.keras.optimizers.SGD(learning_rate=l_r)\n```",
   "metadata": {
    "id": "zCdxM6HDqR1F",
    "colab_type": "text",
    "cell_id": "00013-3fb1415e-820b-4806-88a8-2605accc2877",
    "deepnote_cell_type": "markdown"
   }
  },
  {
   "cell_type": "markdown",
   "source": "## Putting Together Your Neural Network\n\nNow you will experiment with adding different layers to your neural network. We've added some guiding comments to give you a place to start and test out, but we also strongly encourage you to go through all the documetation and do some googling as well!",
   "metadata": {
    "id": "ldbularZ3cCW",
    "colab_type": "text",
    "cell_id": "00014-4bb2fae6-f73a-4e4b-95fc-a31622742ea2",
    "deepnote_cell_type": "markdown"
   }
  },
  {
   "cell_type": "code",
   "metadata": {
    "id": "qMp_z7W9vZV4",
    "colab_type": "code",
    "colab": {},
    "cell_id": "00015-363614aa-5de3-4194-9d52-2a8b2336175b",
    "deepnote_cell_type": "code"
   },
   "source": "# Once you've gone through all the tests play around with these rate alues to see if you can increase your accuracy\nl_r = .001 \nd_r = 0.6\n\nmodel = tf.keras.Sequential()\nmodel.add(tf.keras.layers.Dense(8, input_shape=(3,)))",
   "execution_count": null,
   "outputs": []
  },
  {
   "cell_type": "markdown",
   "source": "### Test 1",
   "metadata": {
    "id": "8OQKRfNjBWGC",
    "colab_type": "text",
    "cell_id": "00016-c78d75b2-641b-471f-9a1c-34a672736283",
    "deepnote_cell_type": "markdown"
   }
  },
  {
   "cell_type": "code",
   "metadata": {
    "id": "BneaEDk-BWj2",
    "colab_type": "code",
    "colab": {},
    "cell_id": "00017-8a457da9-69cd-4664-bbf1-35391e2f0333",
    "deepnote_cell_type": "code"
   },
   "source": "# Run this cell as it is\nmodel.add(tf.keras.layers.Dense(8))\nmodel.add(tf.keras.layers.Dense(8))\n\n# output dimension needs to be number of classes in order for each to get a score\nmodel.add(tf.keras.layers.Dense(5))\n\n# Now skip down to the section that compiles and trains your model and run those cells.\n# Check the pseudo-test accuracy and see how well the bare minimum performed.",
   "execution_count": null,
   "outputs": []
  },
  {
   "cell_type": "markdown",
   "source": "### Test 2",
   "metadata": {
    "id": "djwaQho7_xBt",
    "colab_type": "text",
    "cell_id": "00018-6757ea71-ebbc-4f9e-a768-6f06d82d9b00",
    "deepnote_cell_type": "markdown"
   }
  },
  {
   "cell_type": "code",
   "metadata": {
    "id": "o2MQzNEa_ViW",
    "colab_type": "code",
    "colab": {},
    "cell_id": "00019-ba6bc9c8-f93e-4d00-83f7-2345e90bbeed",
    "deepnote_cell_type": "code"
   },
   "source": "# Add activation layer here\nmodel.add(tf.keras.layers.Dense(8))\n# Add activation layer here\nmodel.add(tf.keras.layers.Dense(8))\n# Add activation layer here \n\n# output dimension needs to be number of classes in order for each to get a score\nmodel.add(tf.keras.layers.Dense(5))\n\n# Now skip down to the section that compiles and trains your model and re-run those cells.\n# What do you notice about the testing/Validation accuracy after Test 2 in comparison to Test 1?",
   "execution_count": null,
   "outputs": []
  },
  {
   "cell_type": "markdown",
   "source": "### Test 3",
   "metadata": {
    "id": "M_pr4L_0Bzt_",
    "colab_type": "text",
    "cell_id": "00020-1a144d9a-4cb7-4653-873c-02e8e0c3cefb",
    "deepnote_cell_type": "markdown"
   }
  },
  {
   "cell_type": "code",
   "metadata": {
    "id": "pb-7sVYkB11c",
    "colab_type": "code",
    "colab": {},
    "cell_id": "00021-359e0e7b-6859-4de3-8805-19f832566b51",
    "deepnote_cell_type": "code"
   },
   "source": "# Add activation layer here\nmodel.add(tf.keras.layers.Dense(8))\n# Add activation layer here\nmodel.add(tf.keras.layers.Dense(8))\n# Add activation layer here \n\n# output dimension needs to be number of classes in order for each to get a score\nmodel.add(tf.keras.layers.Dense(5))\n\n# Add dropout layer here\n\n# Now skip down to the section that compiles and trains your model and re-run those cells.\n# What do you notice about the testing/Validation accuracy after Test 2 in comparison to Test 1 & 2?",
   "execution_count": null,
   "outputs": []
  },
  {
   "cell_type": "markdown",
   "source": "### Test 4\n\nNow go back down to the cell where you compiled your model, and this time change the optimizer. It's been set to Adam by default but as we showed you above, there are other functions that you can test out.",
   "metadata": {
    "id": "YwjD-MgMDHFV",
    "colab_type": "text",
    "cell_id": "00022-162ed753-4c99-49a5-8bb9-5e1777660f52",
    "deepnote_cell_type": "markdown"
   }
  },
  {
   "cell_type": "markdown",
   "source": "## Compiling and Training Your Model",
   "metadata": {
    "id": "Qhna7lr5Dm56",
    "colab_type": "text",
    "cell_id": "00023-1e081e7d-5d8c-443b-975d-3ee1f618c19a",
    "deepnote_cell_type": "markdown"
   }
  },
  {
   "cell_type": "code",
   "metadata": {
    "id": "XB1qNpsoASGv",
    "colab_type": "code",
    "colab": {},
    "cell_id": "00024-7d083ef5-5ec0-41c5-942d-bbab6e9d7eb3",
    "deepnote_cell_type": "code"
   },
   "source": "model.compile(loss = tf.keras.losses.categorical_crossentropy, \n              optimizer = tf.keras.optimizers.Adam(learning_rate=l_r),\n              metrics = ['accuracy'])   ",
   "execution_count": null,
   "outputs": []
  },
  {
   "cell_type": "markdown",
   "source": "Fit Model to Data, Specify Number of Epochs and Batch Size:",
   "metadata": {
    "id": "Tj1lwAY7BJPk",
    "colab_type": "text",
    "cell_id": "00025-b2da80ec-6af0-4313-8a81-6a8bc41f2ad6",
    "deepnote_cell_type": "markdown"
   }
  },
  {
   "cell_type": "code",
   "metadata": {
    "id": "uF2RT0eGBIlD",
    "colab_type": "code",
    "colab": {},
    "cell_id": "00026-f9e5ff69-8a96-4a4e-b5b3-bcd20ba68285",
    "deepnote_cell_type": "code"
   },
   "source": "EPOCHS = 50\nbatch_size = 100\n\ntraining_set = training_set.batch(batch_size) #set batch size\n\nfor epoch in range(EPOCHS):\n    for signals, labels in training_set:\n        tr_loss, tr_accuracy = model.train_on_batch(signals, labels)\n    val_loss, val_accuracy = model.evaluate(X_data_val, y_labels_val)\n    print(('Epoch #%d\\t Training Loss: %.2f\\tTraining Accuracy: %.2f\\t'\n         'Validation Loss: %.2f\\tValidation Accuracy: %.2f')\n         % (epoch + 1, tr_loss, tr_accuracy,\n         val_loss, val_accuracy))",
   "execution_count": null,
   "outputs": []
  },
  {
   "cell_type": "code",
   "metadata": {
    "id": "4GipGyEkBQdj",
    "colab_type": "code",
    "colab": {},
    "cell_id": "00027-fd5ec522-5998-428e-b955-e8d788e41a9c",
    "deepnote_cell_type": "code"
   },
   "source": "#Check Performance on Test Set\ntest_loss, test_accuracy = model.evaluate(X_data_test, y_labels_test)",
   "execution_count": null,
   "outputs": []
  },
  {
   "cell_type": "markdown",
   "source": "Now modify the existing model even more, and try to find the highest and appropriate testing and validation accuracy!",
   "metadata": {
    "id": "maTNvEQpbkoS",
    "colab_type": "text",
    "cell_id": "00028-09ecf68d-eb3f-483f-bf45-0f2329a8394c",
    "deepnote_cell_type": "markdown"
   }
  },
  {
   "cell_type": "markdown",
   "source": "<a style='text-decoration:none;line-height:16px;display:flex;color:#5B5B62;padding:10px;justify-content:end;' href='https://deepnote.com?utm_source=created-in-deepnote-cell&projectId=bc6ef38b-230b-4598-a65d-031c49606565' target=\"_blank\">\n<img alt='Created in deepnote.com' style='display:inline;max-height:16px;margin:0px;margin-right:7.5px;' src='data:image/svg+xml;base64,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' > </img>\nCreated in <span style='font-weight:600;margin-left:4px;'>Deepnote</span></a>",
   "metadata": {
    "tags": [],
    "created_in_deepnote_cell": true,
    "deepnote_cell_type": "markdown"
   }
  }
 ],
 "nbformat": 4,
 "nbformat_minor": 0,
 "metadata": {
  "colab": {
   "name": "NeuralNetworks_Exercises.ipynb",
   "provenance": [],
   "collapsed_sections": []
  },
  "kernelspec": {
   "name": "python3",
   "display_name": "Python 3"
  },
  "deepnote_notebook_id": "38eca9ba-242f-4d99-9c67-e9ad290402a4",
  "deepnote": {},
  "deepnote_execution_queue": []
 }
}